{
 "cells": [
  {
   "cell_type": "code",
   "execution_count": 1,
   "id": "062cce5d-7f77-4b72-85c9-a454c4a1a056",
   "metadata": {},
   "outputs": [],
   "source": [
    "# let's define the purpose of this project\n",
    "# The idea is to create an estimator based on the current investments, savings rate, and time period"
   ]
  },
  {
   "cell_type": "code",
   "execution_count": 2,
   "id": "bcbcaa1b-a678-473d-9b98-eaf1b7f4497d",
   "metadata": {},
   "outputs": [],
   "source": [
    "# TODO: add the correct numbers in the cell below"
   ]
  },
  {
   "cell_type": "code",
   "execution_count": 3,
   "id": "23908e62-3b07-4835-aeaa-ca22458445c9",
   "metadata": {},
   "outputs": [],
   "source": [
    "initial = 260000\n",
    "time_in_years = 20\n",
    "monthly = 1000"
   ]
  },
  {
   "cell_type": "code",
   "execution_count": 4,
   "id": "108c2826-6efb-4732-8cad-3fffebc6cce6",
   "metadata": {},
   "outputs": [
    {
     "name": "stdout",
     "output_type": "stream",
     "text": [
      "At the end of year 1 the investment balance is: $291,188.01\n",
      "At the end of year 2 the investment balance is: $324,630.60\n",
      "At the end of year 3 the investment balance is: $360,490.75\n",
      "At the end of year 4 the investment balance is: $398,943.24\n",
      "At the end of year 5 the investment balance is: $440,175.47\n",
      "At the end of year 6 the investment balance is: $484,388.37\n",
      "At the end of year 7 the investment balance is: $531,797.43\n",
      "At the end of year 8 the investment balance is: $582,633.70\n",
      "At the end of year 9 the investment balance is: $637,144.92\n",
      "At the end of year 10 the investment balance is: $695,596.77\n",
      "At the end of year 11 the investment balance is: $758,274.10\n",
      "At the end of year 12 the investment balance is: $825,482.38\n",
      "At the end of year 13 the investment balance is: $897,549.15\n",
      "At the end of year 14 the investment balance is: $974,825.64\n",
      "At the end of year 15 the investment balance is: $1,057,688.45\n",
      "At the end of year 16 the investment balance is: $1,146,541.42\n",
      "At the end of year 17 the investment balance is: $1,241,817.57\n",
      "At the end of year 18 the investment balance is: $1,343,981.25\n",
      "At the end of year 19 the investment balance is: $1,453,530.35\n",
      "At the end of year 20 the investment balance is: $1,570,998.76\n"
     ]
    }
   ],
   "source": [
    "total = initial\n",
    "for i in range (1, time_in_years * 12 + 1): # 120 for 10 years of investments\n",
    "    total += total * 7/12 / 100 # assuming a 7% return rate, a typical avg for the stock market\n",
    "    total += monthly\n",
    "    #print('During month', i, 'the investment balance is:', f\"${total:,.2f}\")\n",
    "    if i % 12 == 0:\n",
    "        print('At the end of the year', i // 12, 'the investment balance is:', f\"${total:,.2f}\")"
   ]
  },
  {
   "cell_type": "code",
   "execution_count": 5,
   "id": "34f5c19b-7c0a-4841-8d8b-b3ed072f92ed",
   "metadata": {},
   "outputs": [
    {
     "name": "stdout",
     "output_type": "stream",
     "text": [
      "Final amount in 20 years is $1,570,998.76\n"
     ]
    }
   ],
   "source": [
    "print('Final amount in', time_in_years, 'years is', f\"${total:,.2f}\")"
   ]
  },
  {
   "cell_type": "code",
   "execution_count": 6,
   "id": "1f2f162f-a0cb-4db2-99af-c6e0d3238c0f",
   "metadata": {},
   "outputs": [],
   "source": [
    "retrieval_monthly = total * 0.04 / 12"
   ]
  },
  {
   "cell_type": "code",
   "execution_count": 7,
   "id": "5e270468-408e-4a81-95ab-17a9d6c15e21",
   "metadata": {},
   "outputs": [
    {
     "name": "stdout",
     "output_type": "stream",
     "text": [
      "Which equals $5,236.66 per month\n"
     ]
    }
   ],
   "source": [
    "print('Which equals', f\"${retrieval_monthly:,.2f}\", \"per month\")"
   ]
  }
 ],
 "metadata": {
  "kernelspec": {
   "display_name": "Python [conda env:base] *",
   "language": "python",
   "name": "conda-base-py"
  },
  "language_info": {
   "codemirror_mode": {
    "name": "ipython",
    "version": 3
   },
   "file_extension": ".py",
   "mimetype": "text/x-python",
   "name": "python",
   "nbconvert_exporter": "python",
   "pygments_lexer": "ipython3",
   "version": "3.13.5"
  }
 },
 "nbformat": 4,
 "nbformat_minor": 5
}
